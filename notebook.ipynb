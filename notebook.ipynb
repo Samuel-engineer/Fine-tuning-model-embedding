{
 "cells": [
  {
   "cell_type": "markdown",
   "id": "a020c36e-3ddf-4789-9891-5b4ffbeb055c",
   "metadata": {},
   "source": [
    "<h1 style=\"color:red;\"> Notebeook du [TEST] Synthetic big patent Similarity</h1> "
   ]
  },
  {
   "cell_type": "markdown",
   "id": "804e9753-cdbb-428e-8a20-4fb0169f9764",
   "metadata": {
    "jp-MarkdownHeadingCollapsed": true
   },
   "source": [
    "### Importation des librairies"
   ]
  },
  {
   "cell_type": "code",
   "execution_count": 1,
   "id": "212c2f44-7f61-4162-8bae-f5769fd19b62",
   "metadata": {},
   "outputs": [],
   "source": [
    "# === Installation des dépendances nécessaires ===\n",
    "# Décommentez les lignes ci-dessous si vous exécutez ce notebook pour la première fois\n",
    "# ou dans un environnement n'ayant pas encore les bibliothèques installées.\n",
    "\n",
    "# !pip install sentence_transformers   # Pour les modèles de type Sentence-BERT et l'entraînement avec Trainer\n",
    "# !pip install accelerate              # Optimisation de l'entraînement multi-GPU/TPU (utilisé par Hugging Face)\n",
    "# !pip install datasets                # Chargement, gestion et transformation de jeux de données (Hugging Face)\n",
    "# !pip install wandb                   # Suivi des expériences (facultatif mais recommandé pour le logging)"
   ]
  },
  {
   "cell_type": "code",
   "execution_count": 2,
   "id": "452e6c03-607d-402b-b21e-afd6011208b3",
   "metadata": {},
   "outputs": [
    {
     "data": {
      "text/plain": [
       "True"
      ]
     },
     "execution_count": 2,
     "metadata": {},
     "output_type": "execute_result"
    }
   ],
   "source": [
    "# === Chargement des variables d'environnement ===\n",
    "# Utilise un fichier `.env` pour stocker en toute sécurité les clés API, chemins, ou autres paramètres sensibles.\n",
    "# Assurez-vous qu'un fichier .env est présent à la racine du projet.\n",
    "\n",
    "from dotenv import load_dotenv\n",
    "load_dotenv()"
   ]
  },
  {
   "cell_type": "code",
   "execution_count": 3,
   "id": "88d4accb-4b22-4aec-947a-a2e3814c63ca",
   "metadata": {},
   "outputs": [
    {
     "name": "stdout",
     "output_type": "stream",
     "text": [
      "WARNING:tensorflow:From C:\\Users\\tanto\\anaconda3\\Lib\\site-packages\\tf_keras\\src\\losses.py:2976: The name tf.losses.sparse_softmax_cross_entropy is deprecated. Please use tf.compat.v1.losses.sparse_softmax_cross_entropy instead.\n",
      "\n"
     ]
    }
   ],
   "source": [
    "# === Imports standards ===\n",
    "from typing import Optional\n",
    "\n",
    "import torch  \n",
    "\n",
    "# === Gestion et chargement des jeux de données ===\n",
    "from datasets import load_dataset, DatasetDict, Dataset, concatenate_datasets  # Bibliothèque Hugging Face 'datasets'\n",
    "\n",
    "# === Sentence-Transformers (modèles de type BERT optimisés pour les embeddings) ===\n",
    "from sentence_transformers import (\n",
    "    SentenceTransformer,                        \n",
    "    SentenceTransformerTrainer,                \n",
    "    SentenceTransformerTrainingArguments,      \n",
    ")\n",
    "\n",
    "from sentence_transformers.evaluation import TripletEvaluator  # Évaluateur basé sur des triplets (anchor, positive, negative)\n",
    "from sentence_transformers.losses import TripletLoss           # Fonction de perte pour apprentissage par triplets\n",
    "\n",
    "# === (Optionnel) Optimisation fine avec Transformers ===\n",
    "# from transformers import get_linear_schedule_with_warmup     # Scheduler d'apprentissage avec warmup\n",
    "# from torch.optim import AdamW                                # Optimiseur adapté aux Transformers\n"
   ]
  },
  {
   "cell_type": "code",
   "execution_count": 4,
   "id": "016af439-72ab-44df-ade4-1678e1bc746d",
   "metadata": {},
   "outputs": [],
   "source": [
    "# Permet d'assurer que les résultats sont cohérents entre différentes exécutions, en fixant les sources d'aléatoire.\n",
    "seed = 42\n",
    "torch.cuda.manual_seed_all(seed)       # Pour les opérations sur GPU (si disponible)"
   ]
  },
  {
   "cell_type": "markdown",
   "id": "ee702261-e4eb-4f85-9c33-a6ec409a7b03",
   "metadata": {
    "jp-MarkdownHeadingCollapsed": true
   },
   "source": [
    "### Classes"
   ]
  },
  {
   "cell_type": "code",
   "execution_count": 5,
   "id": "e9fbc82c-9abc-40fc-b05c-264c0731ad39",
   "metadata": {},
   "outputs": [],
   "source": [
    "class Model:\n",
    "    def __init__(self, model_name: str, model_path: Optional[str] = \"avsolatorio/GIST-small-Embedding-v0\"):\n",
    "        \"\"\"\n",
    "        Initialise le modèle SentenceTransformer.\n",
    "\n",
    "        :param model_name: Nom de l'expérience modèle (utilisé pour le logging et le nommage)\n",
    "        :param model_path: Chemin ou identifiant HuggingFace du modèle pré-entraîné\n",
    "        \"\"\"\n",
    "        self.name = model_name\n",
    "        self.model = SentenceTransformer(model_path)\n",
    "\n",
    "    def __call__(self):\n",
    "        return self.model\n",
    "\n",
    "    def training(self, train_test: DatasetDict, **kwargs):\n",
    "        \"\"\"\n",
    "        Fonction d'entraînement du modèle.\n",
    "\n",
    "        :param train_test: Dictionnaire contenant les jeux de données 'train', 'valid' et 'test' (avec triplets anchor, positive, negative)\n",
    "        :param kwargs: Arguments supplémentaires pour la configuration de l'entraînement (batch_size, num_train_epochs, etc.)\n",
    "        \"\"\"\n",
    "        # Configuration des arguments d'entraînement\n",
    "        args = SentenceTransformerTrainingArguments(\n",
    "            output_dir=\"models/checkpoints\",\n",
    "            logging_dir=\"./logs\",\n",
    "            logging_steps=20,\n",
    "            save_total_limit=2,\n",
    "            load_best_model_at_end=True,\n",
    "            metric_for_best_model=\"eval_cosine_accuracy\",\n",
    "            greater_is_better=True,\n",
    "            eval_strategy=\"epoch\",\n",
    "            save_strategy=\"epoch\",\n",
    "            fp16=False,\n",
    "            bf16=True,\n",
    "            run_name=f\"{self.name}_experiment\",\n",
    "            seed=42,\n",
    "            **kwargs\n",
    "        )\n",
    "\n",
    "        # Définition de l'évaluateur pour la validation\n",
    "        dev_evaluator = TripletEvaluator(\n",
    "            anchors=train_test[\"valid\"][\"anchor\"],\n",
    "            positives=train_test[\"valid\"][\"positive\"],\n",
    "            negatives=train_test[\"valid\"][\"negative\"]\n",
    "        )\n",
    "\n",
    "        # Définition de la fonction de perte\n",
    "        loss = TripletLoss(self.model)\n",
    "\n",
    "        # Instanciation du Trainer\n",
    "        trainer = SentenceTransformerTrainer(\n",
    "            model=self.model,\n",
    "            args=args,\n",
    "            train_dataset=train_test[\"train\"],\n",
    "            eval_dataset=train_test[\"valid\"],\n",
    "            loss=loss,\n",
    "            evaluator=dev_evaluator,\n",
    "            # optimizers=(optimizer, scheduler),  # Optionnel : à activer si personnalisation\n",
    "        )\n",
    "\n",
    "        # Démarrage de l'entraînement\n",
    "        trainer.train()\n",
    "\n",
    "    def testing(self, dataset: DatasetDict) -> float:\n",
    "        \"\"\"\n",
    "        Fonction pour tester le modèle sur un dataset de test.\n",
    "\n",
    "        :param dataset: Dictionnaire contenant les triplets (anchor, positive, negative)\n",
    "        :return: Résultat de l'évaluation\n",
    "        \"\"\"\n",
    "        test_evaluator = TripletEvaluator(\n",
    "            anchors=dataset[\"anchor\"],\n",
    "            positives=dataset[\"positive\"],\n",
    "            negatives=dataset[\"negative\"],\n",
    "            name=f\"{self.name}_test\",\n",
    "        )\n",
    "        \n",
    "        return test_evaluator(self.model)\n"
   ]
  },
  {
   "cell_type": "markdown",
   "id": "af99b836-e40a-47d0-9ff5-062f441093ac",
   "metadata": {
    "jp-MarkdownHeadingCollapsed": true
   },
   "source": [
    "### 📉 Fonction de Perte : Triplet Loss avec Similarité Cosinus\n",
    "\n",
    "La fonction de perte utilisée est une **Triplet Loss**, adaptée aux tâches de similarité sémantique.\n",
    "\n",
    "#### 🔍 Objectif :\n",
    "Minimiser la distance entre l’ancre (*anchor*) et un exemple similaire (*positive*), \n",
    "tout en maximisant la distance avec un exemple différent (*negative*).\n",
    "\n",
    "#### 🧮 Formule :\n",
    "$$\n",
    "\\text{Loss} = \\max \\left(0, \\; d(a, p) - d(a, n) + \\text{margin} \\right)\n",
    "$$\n",
    "\n",
    "- \\( a \\): vecteur de l’ancre (*anchor*)\n",
    "- \\( p \\): vecteur de l’exemple similaire (*positive*)\n",
    "- \\( n \\): vecteur de l’exemple différent (*negative*)\n",
    "- \\( d(x, y) \\): **distance cosinus** par défaut : \n",
    "  $$\n",
    "  d(x, y) = 1 - \\cos(\\theta) = 1 - \\frac{x \\cdot y}{\\|x\\|\\|y\\|}\n",
    "  $$\n",
    "- **margin** : marge souhaitée entre les distances (ex: 0.2)\n",
    "\n",
    "#### 📐 Pourquoi la Similarité Cosinus ?\n",
    "Elle est efficace pour des vecteurs normalisés comme les embeddings textuels, \n",
    "par mesure l’orientation.\n"
   ]
  },
  {
   "cell_type": "markdown",
   "id": "5d048688-46cb-4565-9ed3-7a48059fcfdd",
   "metadata": {
    "jp-MarkdownHeadingCollapsed": true
   },
   "source": [
    "### GPU disponible ?"
   ]
  },
  {
   "cell_type": "code",
   "execution_count": 6,
   "id": "8b93da2a-28af-4780-b3ae-13ab0a799271",
   "metadata": {},
   "outputs": [
    {
     "name": "stdout",
     "output_type": "stream",
     "text": [
      "GPU disponible : True\n",
      "Nom du GPU : NVIDIA GeForce RTX 3050 Laptop GPU\n"
     ]
    }
   ],
   "source": [
    "# Vérifier si un GPU est disponible\n",
    "print(\"GPU disponible :\", torch.cuda.is_available())\n",
    "\n",
    "# Nom du GPU\n",
    "if torch.cuda.is_available():\n",
    "    print(\"Nom du GPU :\", torch.cuda.get_device_name(0))\n"
   ]
  },
  {
   "cell_type": "markdown",
   "id": "5c863dd8-07f9-499a-87cc-61cfc293b917",
   "metadata": {
    "jp-MarkdownHeadingCollapsed": true
   },
   "source": [
    "## Chargement du jeu de données BigPatent"
   ]
  },
  {
   "cell_type": "code",
   "execution_count": 7,
   "id": "a02aecee-ff00-445b-8d90-dc78d772df20",
   "metadata": {},
   "outputs": [],
   "source": [
    "# Chargement du dataset à partir d’un fichier JSON local contenant (ancre, query, positif, négatif).\n",
    "data = load_dataset(\"json\", data_files=\"dataset_big_patent_v3.json\")"
   ]
  },
  {
   "cell_type": "code",
   "execution_count": 8,
   "id": "e5f026a4-da8a-4121-bccb-2daeb088038c",
   "metadata": {},
   "outputs": [],
   "source": [
    "# Suppression de l’ancienne colonne 'anchor' \n",
    "dataset = data.remove_columns('anchor')\n",
    "\n",
    "# Renommage de la colonne 'query' en 'anchor' pour correspondre au format attendu par le modèle training\n",
    "dataset = dataset.rename_column('query', 'anchor')"
   ]
  },
  {
   "cell_type": "code",
   "execution_count": 9,
   "id": "a6404af6-0a63-4a5b-86d5-82e57eebfb03",
   "metadata": {},
   "outputs": [
    {
     "data": {
      "text/plain": [
       "DatasetDict({\n",
       "    train: Dataset({\n",
       "        features: ['anchor', 'positive', 'negative'],\n",
       "        num_rows: 499\n",
       "    })\n",
       "})"
      ]
     },
     "execution_count": 9,
     "metadata": {},
     "output_type": "execute_result"
    }
   ],
   "source": [
    "dataset"
   ]
  },
  {
   "cell_type": "code",
   "execution_count": 10,
   "id": "e0eea41a-3440-477a-8efe-e1b7d45a0732",
   "metadata": {},
   "outputs": [
    {
     "data": {
      "text/plain": [
       "'What are the key advantages and applications of an implantable stimulator system that uses a passive magnetostrictive electroactive sensor for power harvesting in a non-vibration rich environment?,'"
      ]
     },
     "execution_count": 10,
     "metadata": {},
     "output_type": "execute_result"
    }
   ],
   "source": [
    "dataset[\"train\"][\"anchor\"][0]"
   ]
  },
  {
   "cell_type": "markdown",
   "id": "9dd8d7fe-ce29-41a2-9d7a-e658302389bd",
   "metadata": {},
   "source": [
    "## Zero-shot et fine tuning"
   ]
  },
  {
   "cell_type": "code",
   "execution_count": 12,
   "id": "ebdc2349-296c-4622-86ba-cd992f8a89df",
   "metadata": {},
   "outputs": [],
   "source": [
    "# Instanciation d’un modèle de référence sans fine-tuning.\n",
    "# Il sera utilisé pour évaluer la qualité des triplets initiaux (baseline).\n",
    "model_zero = Model(\"zero_shot_model\")"
   ]
  },
  {
   "cell_type": "markdown",
   "id": "5df0e570-9af1-4031-9f2c-c7c57b19cfb3",
   "metadata": {},
   "source": [
    "### Refonte du dataset pour l'entrainement"
   ]
  },
  {
   "cell_type": "code",
   "execution_count": 13,
   "id": "da3d2be7-3dc5-4d44-a439-823101b6edab",
   "metadata": {},
   "outputs": [],
   "source": [
    "# Initialisation des listes de succès et d'échecs selon les scores de similarité\n",
    "success = []\n",
    "failure = []\n",
    "\n",
    "# Boucle sur les triplets du dataset d'entraînement\n",
    "for ligne in dataset[\"train\"]:\n",
    "    # Extraction des trois éléments du triplet : ancre, positif, négatif\n",
    "    observation = [ligne[\"anchor\"], ligne[\"positive\"], ligne[\"negative\"]]\n",
    "    \n",
    "    # Génération des embeddings via le modèle de référence (non fine-tuné)\n",
    "    embeddings = model_zero().encode(observation, convert_to_tensor=True)\n",
    "    \n",
    "    # Calcul de la similarité cosinus entre les différentes paires\n",
    "    similarities = model_zero().similarity(embeddings, embeddings)\n",
    "    \n",
    "    # Comparaison : si l’ancre est plus proche du positif que du négatif, c’est un succès\n",
    "    if similarities[0][1] > similarities[0][2]:\n",
    "        success.append(ligne)\n",
    "    else:\n",
    "        failure.append(ligne)"
   ]
  },
  {
   "cell_type": "code",
   "execution_count": 15,
   "id": "c5686001-5346-4415-87da-b27685681b47",
   "metadata": {},
   "outputs": [
    {
     "data": {
      "text/plain": [
       "(136, 363)"
      ]
     },
     "execution_count": 15,
     "metadata": {},
     "output_type": "execute_result"
    }
   ],
   "source": [
    "len(failure), len(success) "
   ]
  },
  {
   "cell_type": "code",
   "execution_count": 16,
   "id": "b000af7a-fdb2-4857-aeea-93b0104c1f6c",
   "metadata": {},
   "outputs": [
    {
     "data": {
      "text/plain": [
       "DatasetDict({\n",
       "    train: Dataset({\n",
       "        features: ['anchor', 'positive', 'negative'],\n",
       "        num_rows: 296\n",
       "    })\n",
       "    valid: Dataset({\n",
       "        features: ['anchor', 'positive', 'negative'],\n",
       "        num_rows: 203\n",
       "    })\n",
       "    test: Dataset({\n",
       "        features: ['anchor', 'positive', 'negative'],\n",
       "        num_rows: 499\n",
       "    })\n",
       "})"
      ]
     },
     "execution_count": 16,
     "metadata": {},
     "output_type": "execute_result"
    }
   ],
   "source": [
    "# Création des datasets individuels à partir des listes `success` et `failure`,\n",
    "# puis mélange aléatoire pour éviter les biais de position.\n",
    "success_dataset = Dataset.from_list(success).shuffle(seed=42)\n",
    "failure_dataset = Dataset.from_list(failure).shuffle(seed=42)\n",
    "\n",
    "# Définition des ratios de séparation pour les ensembles d'entraînement et de validation.\n",
    "# On envoie 50% des succès dans l'entraînement (soit 30% du total initial si succès = 60%),\n",
    "# et on conserve 85% des échecs pour l'entraînement.\n",
    "success_ratio = 0.5\n",
    "failure_ratio = 0.85\n",
    "\n",
    "# Découpage du dataset des succès en train/valid\n",
    "success_split_idx = int(success_ratio * len(success_dataset))\n",
    "success_for_train = success_dataset.select(range(success_split_idx))\n",
    "success_for_valid = success_dataset.select(range(success_split_idx, len(success_dataset)))\n",
    "\n",
    "# Découpage du dataset des échecs en train/valid\n",
    "failure_split_idx = int(failure_ratio * len(failure_dataset))\n",
    "failure_for_train = failure_dataset.select(range(failure_split_idx))\n",
    "failure_for_valid = failure_dataset.select(range(failure_split_idx, len(failure_dataset)))\n",
    "\n",
    "# Fusion des sous-datasets pour créer les ensembles finaux d'entraînement et de validation.\n",
    "train_dataset = concatenate_datasets([failure_for_train, success_for_train])\n",
    "valid_dataset = concatenate_datasets([failure_for_valid, success_for_valid])\n",
    "\n",
    "# Construction du dictionnaire final contenant les splits de données\n",
    "# \"train\", \"valid\" (et \"test\" hérité du dataset original)\n",
    "train_test = DatasetDict({\n",
    "    \"train\": train_dataset,\n",
    "    \"valid\": valid_dataset,\n",
    "    \"test\": dataset[\"train\"]  # Le test set est conservé tel quel depuis le jeu original\n",
    "})\n",
    "\n",
    "train_test\n"
   ]
  },
  {
   "cell_type": "markdown",
   "id": "71325be8-32bf-47b1-85b8-3b7d30884835",
   "metadata": {},
   "source": [
    "### Evaluation en zero shot"
   ]
  },
  {
   "cell_type": "code",
   "execution_count": 61,
   "id": "4b2ec1de-c232-4296-9f88-080984ff987e",
   "metadata": {},
   "outputs": [
    {
     "data": {
      "text/plain": [
       "0.6114864945411682"
      ]
     },
     "execution_count": 61,
     "metadata": {},
     "output_type": "execute_result"
    }
   ],
   "source": [
    "train_zero = model_zero.testing(train_test[\"train\"])[\"zero_shot_model_test_cosine_accuracy\"]\n",
    "train_zero"
   ]
  },
  {
   "cell_type": "code",
   "execution_count": 62,
   "id": "e0dbc9f2-c4ae-4106-ace5-f8b2248982eb",
   "metadata": {},
   "outputs": [
    {
     "data": {
      "text/plain": [
       "0.8965517282485962"
      ]
     },
     "execution_count": 62,
     "metadata": {},
     "output_type": "execute_result"
    }
   ],
   "source": [
    "valid_zero = model_zero.testing(train_test[\"valid\"])[\"zero_shot_model_test_cosine_accuracy\"]\n",
    "valid_zero"
   ]
  },
  {
   "cell_type": "code",
   "execution_count": 63,
   "id": "5be6eb72-110f-431d-9225-cd1cc7a7924a",
   "metadata": {},
   "outputs": [
    {
     "data": {
      "text/plain": [
       "0.7274549007415771"
      ]
     },
     "execution_count": 63,
     "metadata": {},
     "output_type": "execute_result"
    }
   ],
   "source": [
    "test_zero = model_zero.testing(train_test[\"test\"])[\"zero_shot_model_test_cosine_accuracy\"]\n",
    "test_zero"
   ]
  },
  {
   "cell_type": "markdown",
   "id": "d3fb39b9-032b-4fbb-9ff0-21e0d81a4d92",
   "metadata": {},
   "source": [
    "### Entrainement du modèle"
   ]
  },
  {
   "cell_type": "code",
   "execution_count": 20,
   "id": "a5e03abe-2e1d-46a6-bd30-92a08b514bcc",
   "metadata": {},
   "outputs": [],
   "source": [
    "model_1 = Model(\"model_1arg\")"
   ]
  },
  {
   "cell_type": "code",
   "execution_count": 21,
   "id": "c9e87f76-0bcc-4ac2-b1a2-5f10f9edd547",
   "metadata": {},
   "outputs": [],
   "source": [
    "# Dictionnaire des arguments d'entraînement pour SentenceTransformerTrainingArguments.\n",
    "\n",
    "args = {\n",
    "    \"num_train_epochs\": 10,                 # Nombre total d'époques d'entraînement\n",
    "    \"per_device_train_batch_size\": 16,      # Taille du batch pour l'entraînement\n",
    "    \"per_device_eval_batch_size\": 10,       # Taille du batch pour l'évaluation (valid/test)\n",
    "    \"learning_rate\": 1e-5,                  # Taux d'apprentissage \n",
    "}\n"
   ]
  },
  {
   "cell_type": "code",
   "execution_count": 22,
   "id": "374b2c08-b1dd-4b2c-bab9-08ca09c74d61",
   "metadata": {},
   "outputs": [
    {
     "data": {
      "application/vnd.jupyter.widget-view+json": {
       "model_id": "c2a0140d624e4d298bef912dbcf68c58",
       "version_major": 2,
       "version_minor": 0
      },
      "text/plain": [
       "Computing widget examples:   0%|          | 0/1 [00:00<?, ?example/s]"
      ]
     },
     "metadata": {},
     "output_type": "display_data"
    },
    {
     "name": "stderr",
     "output_type": "stream",
     "text": [
      "\u001b[34m\u001b[1mwandb\u001b[0m: Using wandb-core as the SDK backend.  Please refer to https://wandb.me/wandb-core for more information.\n",
      "\u001b[34m\u001b[1mwandb\u001b[0m: Currently logged in as: \u001b[33mtoaly-samuel-boris-tan\u001b[0m (\u001b[33mtoaly-samuel-boris-tan-efrei\u001b[0m) to \u001b[32mhttps://api.wandb.ai\u001b[0m. Use \u001b[1m`wandb login --relogin`\u001b[0m to force relogin\n"
     ]
    },
    {
     "data": {
      "text/html": [
       "Tracking run with wandb version 0.19.9"
      ],
      "text/plain": [
       "<IPython.core.display.HTML object>"
      ]
     },
     "metadata": {},
     "output_type": "display_data"
    },
    {
     "data": {
      "text/html": [
       "Run data is saved locally in <code>C:\\Users\\tanto\\work\\Test technique\\wandb\\run-20250421_100042-cajyd5ep</code>"
      ],
      "text/plain": [
       "<IPython.core.display.HTML object>"
      ]
     },
     "metadata": {},
     "output_type": "display_data"
    },
    {
     "data": {
      "text/html": [
       "Syncing run <strong><a href='https://wandb.ai/toaly-samuel-boris-tan-efrei/sentence-transformers/runs/cajyd5ep' target=\"_blank\">model_1arg_experiment</a></strong> to <a href='https://wandb.ai/toaly-samuel-boris-tan-efrei/sentence-transformers' target=\"_blank\">Weights & Biases</a> (<a href='https://wandb.me/developer-guide' target=\"_blank\">docs</a>)<br>"
      ],
      "text/plain": [
       "<IPython.core.display.HTML object>"
      ]
     },
     "metadata": {},
     "output_type": "display_data"
    },
    {
     "data": {
      "text/html": [
       " View project at <a href='https://wandb.ai/toaly-samuel-boris-tan-efrei/sentence-transformers' target=\"_blank\">https://wandb.ai/toaly-samuel-boris-tan-efrei/sentence-transformers</a>"
      ],
      "text/plain": [
       "<IPython.core.display.HTML object>"
      ]
     },
     "metadata": {},
     "output_type": "display_data"
    },
    {
     "data": {
      "text/html": [
       " View run at <a href='https://wandb.ai/toaly-samuel-boris-tan-efrei/sentence-transformers/runs/cajyd5ep' target=\"_blank\">https://wandb.ai/toaly-samuel-boris-tan-efrei/sentence-transformers/runs/cajyd5ep</a>"
      ],
      "text/plain": [
       "<IPython.core.display.HTML object>"
      ]
     },
     "metadata": {},
     "output_type": "display_data"
    },
    {
     "data": {
      "text/html": [
       "\n",
       "    <div>\n",
       "      \n",
       "      <progress value='190' max='190' style='width:300px; height:20px; vertical-align: middle;'></progress>\n",
       "      [190/190 05:22, Epoch 10/10]\n",
       "    </div>\n",
       "    <table border=\"1\" class=\"dataframe\">\n",
       "  <thead>\n",
       " <tr style=\"text-align: left;\">\n",
       "      <th>Epoch</th>\n",
       "      <th>Training Loss</th>\n",
       "      <th>Validation Loss</th>\n",
       "      <th>Cosine Accuracy</th>\n",
       "    </tr>\n",
       "  </thead>\n",
       "  <tbody>\n",
       "    <tr>\n",
       "      <td>1</td>\n",
       "      <td>No log</td>\n",
       "      <td>4.808261</td>\n",
       "      <td>0.876847</td>\n",
       "    </tr>\n",
       "    <tr>\n",
       "      <td>2</td>\n",
       "      <td>4.914600</td>\n",
       "      <td>4.786403</td>\n",
       "      <td>0.837438</td>\n",
       "    </tr>\n",
       "    <tr>\n",
       "      <td>3</td>\n",
       "      <td>4.889200</td>\n",
       "      <td>4.766803</td>\n",
       "      <td>0.827586</td>\n",
       "    </tr>\n",
       "    <tr>\n",
       "      <td>4</td>\n",
       "      <td>4.881100</td>\n",
       "      <td>4.751766</td>\n",
       "      <td>0.812808</td>\n",
       "    </tr>\n",
       "    <tr>\n",
       "      <td>5</td>\n",
       "      <td>4.833600</td>\n",
       "      <td>4.738719</td>\n",
       "      <td>0.798030</td>\n",
       "    </tr>\n",
       "    <tr>\n",
       "      <td>6</td>\n",
       "      <td>4.834700</td>\n",
       "      <td>4.730022</td>\n",
       "      <td>0.788177</td>\n",
       "    </tr>\n",
       "    <tr>\n",
       "      <td>7</td>\n",
       "      <td>4.817800</td>\n",
       "      <td>4.722884</td>\n",
       "      <td>0.778325</td>\n",
       "    </tr>\n",
       "    <tr>\n",
       "      <td>8</td>\n",
       "      <td>4.801300</td>\n",
       "      <td>4.718532</td>\n",
       "      <td>0.768473</td>\n",
       "    </tr>\n",
       "    <tr>\n",
       "      <td>9</td>\n",
       "      <td>4.783800</td>\n",
       "      <td>4.715669</td>\n",
       "      <td>0.768473</td>\n",
       "    </tr>\n",
       "    <tr>\n",
       "      <td>10</td>\n",
       "      <td>4.794000</td>\n",
       "      <td>4.714672</td>\n",
       "      <td>0.758621</td>\n",
       "    </tr>\n",
       "  </tbody>\n",
       "</table><p>"
      ],
      "text/plain": [
       "<IPython.core.display.HTML object>"
      ]
     },
     "metadata": {},
     "output_type": "display_data"
    }
   ],
   "source": [
    "model_1.training(train_test,**args)"
   ]
  },
  {
   "cell_type": "markdown",
   "id": "fcb85858-9a54-4948-97cd-d94bd65d026a",
   "metadata": {},
   "source": [
    "### Résultats"
   ]
  },
  {
   "cell_type": "code",
   "execution_count": 55,
   "id": "ff633755-51ac-4f6d-b645-a6cb04dac947",
   "metadata": {},
   "outputs": [
    {
     "data": {
      "text/plain": [
       "0.6452702879905701"
      ]
     },
     "execution_count": 55,
     "metadata": {},
     "output_type": "execute_result"
    }
   ],
   "source": [
    "train_tuned = model_1.testing(train_test[\"train\"])[\"model_1arg_test_cosine_accuracy\"]\n",
    "train_tuned"
   ]
  },
  {
   "cell_type": "code",
   "execution_count": 56,
   "id": "d787ac76-83bb-4f3c-889d-5a78a0992512",
   "metadata": {},
   "outputs": [
    {
     "data": {
      "text/plain": [
       "0.8768472671508789"
      ]
     },
     "execution_count": 56,
     "metadata": {},
     "output_type": "execute_result"
    }
   ],
   "source": [
    "valid_tuned = model_1.testing(train_test[\"valid\"])[\"model_1arg_test_cosine_accuracy\"]\n",
    "valid_tuned"
   ]
  },
  {
   "cell_type": "code",
   "execution_count": 57,
   "id": "298d220b-5fbf-4045-af14-9f474237d2f9",
   "metadata": {},
   "outputs": [
    {
     "data": {
      "text/plain": [
       "0.7374749779701233"
      ]
     },
     "execution_count": 57,
     "metadata": {},
     "output_type": "execute_result"
    }
   ],
   "source": [
    "test_tuned = model_1.testing(train_test[\"test\"])[\"model_1arg_test_cosine_accuracy\"]\n",
    "test_tuned"
   ]
  },
  {
   "cell_type": "markdown",
   "id": "8962400f-43f2-41e7-bd75-65c34ed0d40a",
   "metadata": {},
   "source": [
    "### Sauvegarde du modèle"
   ]
  },
  {
   "cell_type": "code",
   "execution_count": 68,
   "id": "6cf08233-b791-40a7-8199-4699315a517a",
   "metadata": {},
   "outputs": [],
   "source": [
    "# sauvegarde du model\n",
    "#model_1.save_pretrained(\"models/final\")"
   ]
  },
  {
   "cell_type": "code",
   "execution_count": 67,
   "id": "41725a1d-0a64-4b55-a864-348347a8a51f",
   "metadata": {},
   "outputs": [
    {
     "data": {
      "image/png": "[encoded data removed]",
      "text/plain": [
       "<Figure size 800x600 with 1 Axes>"
      ]
     },
     "metadata": {},
     "output_type": "display_data"
    }
   ],
   "source": [
    "import matplotlib.pyplot as plt\n",
    "\n",
    "# Cosine accuracy scores for each dataset\n",
    "abscisse = ['Train_zero', 'Train_tuned', 'Valid_zero',\"Valid_tuned\",\"Test_zero\",\"Test_tuned\",]\n",
    "accuracies = [train_zero, train_tuned, valid_zero, valid_tuned, test_zero, test_tuned]\n",
    "\n",
    "# Create a bar chart to visualize the accuracies\n",
    "plt.figure(figsize=(8, 6))\n",
    "plt.bar(abscisse, accuracies, color=['blue','blue', 'green', 'green', 'orange', 'orange'])\n",
    "plt.title('Cosine Accuracy on Different Datasets')\n",
    "plt.xlabel('Dataset')\n",
    "plt.ylabel('Cosine Accuracy')\n",
    "plt.ylim(0, 1)\n",
    "\n",
    "# Show the plot\n",
    "plt.show()\n"
   ]
  }
 ],
 "metadata": {
  "kernelspec": {
   "display_name": "Python 3 (ipykernel)",
   "language": "python",
   "name": "python3"
  },
  "language_info": {
   "codemirror_mode": {
    "name": "ipython",
    "version": 3
   },
   "file_extension": ".py",
   "mimetype": "text/x-python",
   "name": "python",
   "nbconvert_exporter": "python",
   "pygments_lexer": "ipython3",
   "version": "3.11.7"
  }
 },
 "nbformat": 4,
 "nbformat_minor": 5
}
